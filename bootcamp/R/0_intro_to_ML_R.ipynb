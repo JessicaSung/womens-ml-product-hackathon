{
 "cells": [
  {
   "cell_type": "markdown",
   "metadata": {},
   "source": [
    "# Intro to ML in R Bootcamp"
   ]
  },
  {
   "cell_type": "markdown",
   "metadata": {},
   "source": [
    "<img src=\"modeling_process.jpg\",width=800,height=400 >\n",
    "[from: https://www.slideshare.net/CharlesVestur/building-a-performing-machine-learning-model-from-a-to-z]\n",
    "\n"
   ]
  },
  {
   "cell_type": "markdown",
   "metadata": {},
   "source": [
    "# R Packages We'll Use\n",
    "\n",
    "#### Exploratory Data Analysis + Feature Engineering\n",
    "* tidyverse: set of packages for tidy data science (https://www.tidyverse.org)\n",
    "* visdat: rOpenSci package for visualizing dataframes (https://github.com/ropensci/visdat)\n",
    "* dummies: package for creating dummy variables (https://cran.r-project.org/web/packages/dummies/dummies.pdf)\n",
    "\n",
    "#### Building Regression Models\n",
    "* caret: package for Classification And REgression Training (https://topepo.github.io/caret/index.html)\n",
    "* AppliedPredictiveModeling: companion package to the book of the same name (http://appliedpredictivemodeling.com)\n",
    "* ROCR: package for visualizing performance of scoring classifiers (https://cran.r-project.org/web/packages/ROCR/ROCR.pdf)\n",
    "\n",
    "#### Building Decision Trees + Random Forests\n",
    "* rpart: package for Recursive Partioning And Regression Trees (https://cran.r-project.org/web/packages/rpart/rpart.pdf)\n",
    "* rpart.plot: package for plotting rpart trees (https://cran.r-project.org/web/packages/rpart.plot/rpart.plot.pdf)\n",
    "* rattle: package providing graphical interface for using R -- we're using to plot pretty trees (https://rattle.togaware.com)\n",
    "* RColorBrewer: package for creating nice color palettes (https://cran.r-project.org/web/packages/RColorBrewer/RColorBrewer.pdf)\n",
    "* randomForest: package for creating random forests (https://cran.r-project.org/web/packages/randomForest/randomForest.pdf)\n",
    "\n",
    "#### Unsupervised Learning\n",
    "* dbscan: package for doing density-based clustering (https://cran.r-project.org/web/packages/dbscan/dbscan.pdf)\n",
    "* factoextra: ggplot2-based package for extracting and visualizing multivariate analyses (https://cran.r-project.org/web/packages/factoextra/index.html)\n",
    "\n",
    "#### Deep Learning / Neural Nets\n",
    "* keras: interface for R into the keras deep learning library (https://keras.rstudio.com)\n",
    "\n",
    "\n"
   ]
  },
  {
   "cell_type": "markdown",
   "metadata": {},
   "source": [
    "### To install all of the above, open an R session and run:"
   ]
  },
  {
   "cell_type": "code",
   "execution_count": 1,
   "metadata": {
    "collapsed": false
   },
   "outputs": [
    {
     "name": "stderr",
     "output_type": "stream",
     "text": [
      "Installing packages into ‘/Users/caitlin/Library/R/3.5/library’\n",
      "(as ‘lib’ is unspecified)\n"
     ]
    },
    {
     "name": "stdout",
     "output_type": "stream",
     "text": [
      "\n",
      "  There is a binary version available but the source version is later:\n",
      "           binary source needs_compilation\n",
      "rpart.plot  3.0.1  3.0.2             FALSE\n",
      "\n",
      "\n",
      "The downloaded binary packages are in\n",
      "\t/var/folders/y2/1hpzb1qn5j9fkdq211q5q5j00000gn/T//RtmppYeZBs/downloaded_packages\n"
     ]
    },
    {
     "name": "stderr",
     "output_type": "stream",
     "text": [
      "installing the source packages ‘rpart.plot’, ‘rattle’\n",
      "\n"
     ]
    }
   ],
   "source": [
    "install.packages(c(\"tidyverse\", \"caret\", \"AppliedPredictiveModeling\", \"keras\", \"modelr\", \"rpart\",\n",
    "                 \"visdat\", \"dummies\", \"rpart.plot\", \"rattle\", \"RColorBrewer\", \"randomForest\", \n",
    "                 \"dbscan\", \"factoextra\", \"ROCR\"))"
   ]
  },
  {
   "cell_type": "markdown",
   "metadata": {},
   "source": [
    "# Sources"
   ]
  },
  {
   "cell_type": "markdown",
   "metadata": {},
   "source": [
    "* Alligator data: https://www.r-bloggers.com/simple-linear-regression-2/\n",
    "* Abalone data: http://archive.ics.uci.edu/ml/datasets/Abalone\n",
    "* Chris Albon's machine learning flashcards: https://machinelearningflashcards.com\n",
    "    * $12 for 300; highly recommended (by me)\n"
   ]
  },
  {
   "cell_type": "markdown",
   "metadata": {
    "collapsed": true
   },
   "source": [
    "# Resources\n",
    "\n",
    "* DataCamp’s Machine Learning with R (4 course track): https://www.datacamp.com/tracks/machine-learning\n",
    "* Modeling in the tidyverse: http://r4ds.had.co.nz/model-basics.html\n",
    "* Exploratory visualizations: https://machinelearningmastery.com/data-visualization-in-r/\n",
    "* Useful worked linear regression example: https://cfss.uchicago.edu/persp003_linear_regression.html\n",
    "* More useful worked examples: https://tutorials.iq.harvard.edu/R/Rstatistics/Rstatistics.html\n",
    "* MLR is working towards a scikit-like implementation https://github.com/mlr-org/mlr\n",
    "* Kaggle tutorials and notebooks: http://www.kaggle.com\n"
   ]
  }
 ],
 "metadata": {
  "anaconda-cloud": {},
  "kernelspec": {
   "display_name": "R",
   "language": "R",
   "name": "ir"
  },
  "language_info": {
   "codemirror_mode": "r",
   "file_extension": ".r",
   "mimetype": "text/x-r-source",
   "name": "R",
   "pygments_lexer": "r",
   "version": "3.5.1"
  }
 },
 "nbformat": 4,
 "nbformat_minor": 0
}
